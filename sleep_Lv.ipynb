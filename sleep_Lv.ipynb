{
 "cells": [
  {
   "cell_type": "code",
   "execution_count": 2,
   "metadata": {},
   "outputs": [
    {
     "name": "stderr",
     "output_type": "stream",
     "text": [
      "/Users/takayuki/Lecture/ds-programming/ds_pro/lib/python3.9/site-packages/urllib3/__init__.py:34: NotOpenSSLWarning: urllib3 v2 only supports OpenSSL 1.1.1+, currently the 'ssl' module is compiled with 'LibreSSL 2.8.3'. See: https://github.com/urllib3/urllib3/issues/3020\n",
      "  warnings.warn(\n"
     ]
    }
   ],
   "source": [
    "from bs4 import BeautifulSoup\n",
    "import requests #HTTP操作用\n",
    "import time"
   ]
  },
  {
   "cell_type": "code",
   "execution_count": 3,
   "metadata": {},
   "outputs": [],
   "source": [
    "## アクセスしたいWebサイトのURL\n",
    "url = 'https://www.data.jma.go.jp/stats/etrn/view/daily_s1.php?prec_no=44&block_no=47662&year=2023&month=12&day=&view='\n",
    "\n",
    "# Webサーバにリクエストを出す．レスポンスを変数に格納しておく\n",
    "r = requests.get(url)"
   ]
  },
  {
   "cell_type": "code",
   "execution_count": 4,
   "metadata": {},
   "outputs": [
    {
     "name": "stdout",
     "output_type": "stream",
     "text": [
      "<class 'bs4.BeautifulSoup'>\n"
     ]
    }
   ],
   "source": [
    "soup = BeautifulSoup(r.text, 'html.parser') # HTMLソースをBeautifulSoupオブジェクトに変換する（プログラムで扱いやすくするため）\n",
    "print(type(soup))"
   ]
  },
  {
   "cell_type": "code",
   "execution_count": 5,
   "metadata": {},
   "outputs": [
    {
     "name": "stdout",
     "output_type": "stream",
     "text": [
      "1\n",
      "1012.3 -- 6.4 54 2.0 4.0 --\n",
      "2\n",
      "1015.6 -- 4.1 60 1.7 3.1 --\n",
      "3\n",
      "1015.5 -- 4.1 58 2.5 6.3 --\n",
      "4\n",
      "1018.2 -- 4.7 53 1.9 3.8 --\n",
      "5\n",
      "1016.3 0.0 5.7 64 1.9 3.8 --\n",
      "6\n",
      "1008.8 1.0 7.1 77 2.2 4.8 --\n",
      "7\n",
      "1004.1 -- 7.1 60 2.7 8.2 --\n",
      "8\n",
      "1016.3 -- 6.0 49 2.5 4.8 --\n",
      "9\n",
      "1017.0 -- 6.4 66 1.6 3.3 --\n",
      "10\n",
      "1018.5 -- 7.2 65 1.4 4.1 --\n",
      "11\n",
      "1019.6 0.5 11.3 74 2.1 4.5 --\n",
      "12\n",
      "1007.6 15.5 9.7 92 2.1 4.7 --\n",
      "13\n",
      "1021.2 -- 7.3 52 2.8 5.0 --\n",
      "14\n",
      "1024.3 -- 6.5 62 1.7 3.3 --\n",
      "15\n",
      "1011.8 1.0 7.1 82 2.1 8.4 --\n",
      "16\n",
      "1001.4 0.0 10.8 71 3.0 8.7 --\n",
      "17\n",
      "1007.5 -- 5.9 36 3.5 7.2 --\n",
      "18\n",
      "1020.5 -- 3.8 36 2.6 5.5 --\n",
      "19\n",
      "1020.2 -- 3.4 53 1.6 3.1 --\n",
      "20\n",
      "1008.7 -- 4.6 59 1.6 3.5 --\n",
      "21\n",
      "1008.3 -- 3.3 41 2.8 6.4 --\n",
      "22\n",
      "1015.0 -- 1.5 38 2.6 5.9 --\n",
      "23\n",
      "1023.8 -- 0.1 47 1.8 4.4 --\n",
      "24\n",
      "1023.9 -- 2.0 55 1.6 2.9 --\n",
      "25\n",
      "1018.2 -- 1.0 56 1.7 3.6 --\n",
      "26\n",
      "1019.2 -- 2.6 58 2.4 5.8 --\n",
      "27\n",
      "1022.5 -- 4.3 50 2.8 6.2 --\n",
      "28\n",
      "1022.6 -- 4.4 56 1.9 3.3 --\n",
      "29\n",
      "1018.2 -- 2.2 61 1.6 3.4 --\n",
      "30\n",
      "1017.3 -- 4.4 63 1.6 4.7 --\n",
      "31\n",
      "1004.0 1.5 5.8 79 1.4 3.5 --\n"
     ]
    }
   ],
   "source": [
    "detas = soup.find_all('tr', style=\"text-align:right;\")\n",
    "index = 0\n",
    "while index < len(detas):\n",
    "    a_tag = detas[index].find('a')\n",
    "    if a_tag:\n",
    "        day = a_tag.text\n",
    "        print(day)\n",
    "        temp = detas[index].find_all('td', class_=\"data_0_0\")\n",
    "        if temp:\n",
    "            hpa = temp[0].text\n",
    "            Precipitation = temp[2].text\n",
    "            temp_av = temp[7].text\n",
    "            temp_max = temp[8].text\n",
    "            temp_min = temp[9].text\n",
    "            humidity_av = temp[10].text\n",
    "            humidity_min = temp[11].text\n",
    "            suntime = temp[17].text\n",
    "            print(hpa,Precipitation,temp_av,temp_max,humidity_av,humidity_min,suntime)\n",
    "        else:\n",
    "            print(\"必要な要素が見つかりませんでした\")\n",
    "    else:\n",
    "        print(\"aタグが見つかりませんでした\")\n",
    "    index += 1"
   ]
  },
  {
   "cell_type": "code",
   "execution_count": 6,
   "metadata": {},
   "outputs": [],
   "source": [
    "import sqlite3"
   ]
  },
  {
   "cell_type": "code",
   "execution_count": 7,
   "metadata": {},
   "outputs": [
    {
     "name": "stdout",
     "output_type": "stream",
     "text": [
      "/Users/takayuki/Lecture/ds-programming\n"
     ]
    }
   ],
   "source": [
    "!pwd"
   ]
  },
  {
   "cell_type": "code",
   "execution_count": 11,
   "metadata": {},
   "outputs": [
    {
     "data": {
      "text/plain": [
       "<sqlite3.Cursor at 0x107cc9420>"
      ]
     },
     "execution_count": 11,
     "metadata": {},
     "output_type": "execute_result"
    }
   ],
   "source": [
    "# DBファイルを保存するためのファイルパス\n",
    "path = '/Users/takayuki/Lecture/ds-programming'\n",
    "\n",
    "# DBファイル名\n",
    "db_name = 'sleeplv.sqlite'\n",
    "\n",
    "# DBに接続する\n",
    "con = sqlite3.connect(path + db_name)\n",
    "\n",
    "# SQLを実行するためのオブジェクトを取得\n",
    "cur = con.cursor()\n",
    "\n",
    "# テーブルを作成するSQL\n",
    "# # CREATE TABLE テーブル名（カラム名 型，...）;\n",
    "sql_create_table_DSprogHW = '''\n",
    "    CREATE TABLE sleeplv (\n",
    "        day INTEGER,\n",
    "        hpa REAL,\n",
    "        Precipitation TEXT,\n",
    "        temp_av REAL,\n",
    "        temp_max REAL,\n",
    "        temp_min IREAL,\n",
    "        humidity_av TEXT,\n",
    "        suntime TEXT\n",
    "    );\n",
    "'''\n",
    "\n",
    "\n",
    "# # 4．SQLを実行する\n",
    "cur.execute(sql_create_table_DSprogHW)"
   ]
  },
  {
   "cell_type": "code",
   "execution_count": 12,
   "metadata": {},
   "outputs": [],
   "source": [
    "import sqlite3\n",
    "\n",
    "# Your existing code for web scraping\n",
    "\n",
    "# ...\n",
    "\n",
    "# DBファイルを保存するためのファイルパス\n",
    "path = '/Users/takayuki/Lecture/ds-programming'\n",
    "\n",
    "# DBファイル名\n",
    "db_name = 'sleeplv.sqlite'\n",
    "\n",
    "# DBに接続する\n",
    "con = sqlite3.connect(path + '/' + db_name)\n",
    "\n",
    "# SQLを実行するためのオブジェクトを取得\n",
    "cur = con.cursor()\n",
    "\n",
    "# テーブルを作成するSQL\n",
    "sql_create_table_DSprogHW = '''\n",
    "    CREATE TABLE IF NOT EXISTS sleeplv (\n",
    "        day TEXT,\n",
    "        hpa REAL,\n",
    "        Precipitation TEXT,\n",
    "        temp_av REAL,\n",
    "        temp_max REAL,\n",
    "        temp_min REAL,\n",
    "        humidity_av TEXT,\n",
    "        suntime TEXT\n",
    "    );\n",
    "'''\n",
    "\n",
    "# CREATE TABLE IF NOT EXISTS ensures that the table is created only if it doesn't already exist\n",
    "cur.execute(sql_create_table_DSprogHW)\n",
    "\n",
    "# Loop through the data and insert into the table\n",
    "index = 0\n",
    "while index < len(detas):\n",
    "    a_tag = detas[index].find('a')\n",
    "    if a_tag:\n",
    "        day = a_tag.text\n",
    "        temp = detas[index].find_all('td', class_=\"data_0_0\")\n",
    "        if temp:\n",
    "            hpa = float(temp[0].text)\n",
    "            Precipitation = temp[2].text\n",
    "            temp_av = float(temp[7].text)\n",
    "            temp_max = float(temp[8].text)\n",
    "            temp_min = float(temp[9].text)\n",
    "            humidity_av = temp[10].text\n",
    "            humidity_min = temp[11].text\n",
    "            suntime = temp[17].text\n",
    "\n",
    "            # Insert data into the table\n",
    "            sql_insert_data = '''\n",
    "                INSERT INTO sleeplv (day, hpa, Precipitation, temp_av, temp_max, temp_min, humidity_av, suntime)\n",
    "                VALUES (?, ?, ?, ?, ?, ?, ?, ?);\n",
    "            '''\n",
    "            cur.execute(sql_insert_data, (day, hpa, Precipitation, temp_av, temp_max, temp_min, humidity_av, suntime))\n",
    "            con.commit()  # Commit the transaction\n",
    "\n",
    "        else:\n",
    "            print(\"必要な要素が見つかりませんでした\")\n",
    "    else:\n",
    "        print(\"aタグが見つかりませんでした\")\n",
    "    index += 1\n",
    "\n",
    "# Close the connection\n",
    "con.close()\n"
   ]
  }
 ],
 "metadata": {
  "kernelspec": {
   "display_name": "ds_pro",
   "language": "python",
   "name": "python3"
  },
  "language_info": {
   "codemirror_mode": {
    "name": "ipython",
    "version": 3
   },
   "file_extension": ".py",
   "mimetype": "text/x-python",
   "name": "python",
   "nbconvert_exporter": "python",
   "pygments_lexer": "ipython3",
   "version": "3.9.6"
  }
 },
 "nbformat": 4,
 "nbformat_minor": 2
}

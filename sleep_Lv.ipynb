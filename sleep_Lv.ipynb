{
 "cells": [
  {
   "cell_type": "code",
   "execution_count": 4,
   "metadata": {},
   "outputs": [
    {
     "ename": "ModuleNotFoundError",
     "evalue": "No module named 'bs4'",
     "output_type": "error",
     "traceback": [
      "\u001b[0;31m---------------------------------------------------------------------------\u001b[0m",
      "\u001b[0;31mModuleNotFoundError\u001b[0m                       Traceback (most recent call last)",
      "\u001b[1;32m/Users/takayuki/Lecture/ds-programming/sleep_Lv.ipynb セル 1\u001b[0m line \u001b[0;36m1\n\u001b[0;32m----> <a href='vscode-notebook-cell:/Users/takayuki/Lecture/ds-programming/sleep_Lv.ipynb#W0sZmlsZQ%3D%3D?line=0'>1</a>\u001b[0m \u001b[39mfrom\u001b[39;00m \u001b[39mbs4\u001b[39;00m \u001b[39mimport\u001b[39;00m BeautifulSoup\n\u001b[1;32m      <a href='vscode-notebook-cell:/Users/takayuki/Lecture/ds-programming/sleep_Lv.ipynb#W0sZmlsZQ%3D%3D?line=1'>2</a>\u001b[0m \u001b[39mimport\u001b[39;00m \u001b[39mrequests\u001b[39;00m \u001b[39m#HTTP操作用\u001b[39;00m\n\u001b[1;32m      <a href='vscode-notebook-cell:/Users/takayuki/Lecture/ds-programming/sleep_Lv.ipynb#W0sZmlsZQ%3D%3D?line=2'>3</a>\u001b[0m \u001b[39mimport\u001b[39;00m \u001b[39mtime\u001b[39;00m\n",
      "\u001b[0;31mModuleNotFoundError\u001b[0m: No module named 'bs4'"
     ]
    }
   ],
   "source": [
    "from bs4 import BeautifulSoup\n",
    "import requests #HTTP操作用\n",
    "import time"
   ]
  },
  {
   "cell_type": "code",
   "execution_count": 2,
   "metadata": {},
   "outputs": [],
   "source": [
    "# ブラウザをheadlessモード実行\n",
    "options = webdriver.ChromeOptions()\n",
    "#ヘッドレスモード（バックグラウンドで起動）で実行。コラボの場合、必須。\n",
    "options.add_argument('--headless')\n",
    "#サンドボックスモードの解除。これも必須。\n",
    "options.add_argument('--no-sandbox')\n",
    "#これも設定した方がよい。\n",
    "options.add_argument('--disable-dev-shm-usage')\n",
    "wait = WebDriverWait(options,10)"
   ]
  },
  {
   "cell_type": "code",
   "execution_count": 3,
   "metadata": {},
   "outputs": [
    {
     "name": "stdout",
     "output_type": "stream",
     "text": [
      "サイトのタイトル： 気象庁｜過去の気象データ検索\n"
     ]
    }
   ],
   "source": [
    "driver = webdriver.Chrome()\n",
    "#指定したドライバーが見つかるまで待機\n",
    "driver.implicitly_wait(10)\n",
    "\n",
    "#urlの指定\n",
    "url=\"https://www.data.jma.go.jp/stats/etrn/view/daily_s1.php?prec_no=44&block_no=47662&year=2023&month=12&day=&view=\"\n",
    "\n",
    "driver.get(url)\n",
    "time.sleep(3)\n",
    "\n",
    "print(\"サイトのタイトル：\", driver.title)"
   ]
  }
 ],
 "metadata": {
  "kernelspec": {
   "display_name": "ds_pro",
   "language": "python",
   "name": "python3"
  },
  "language_info": {
   "codemirror_mode": {
    "name": "ipython",
    "version": 3
   },
   "file_extension": ".py",
   "mimetype": "text/x-python",
   "name": "python",
   "nbconvert_exporter": "python",
   "pygments_lexer": "ipython3",
   "version": "3.9.6"
  }
 },
 "nbformat": 4,
 "nbformat_minor": 2
}
